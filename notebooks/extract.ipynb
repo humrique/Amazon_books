{
 "cells": [
  {
   "cell_type": "code",
   "execution_count": 1,
   "metadata": {},
   "outputs": [],
   "source": [
    "import requests\n",
    "import pandas as pd\n",
    "from bs4 import BeautifulSoup\n",
    "from pyspark.sql import SparkSession\n",
    "from pyspark.sql.functions import col, when"
   ]
  },
  {
   "cell_type": "code",
   "execution_count": 2,
   "metadata": {},
   "outputs": [],
   "source": [
    "#Headers para a requisição no ML\n",
    "headers = {\n",
    "    \"Referer\": 'https://lista.mercadolivre.com.br/',\n",
    "    \"Sec-Ch-Ua\": \"Not_A Brand\",\n",
    "    \"Sec-Ch-Ua-Mobile\": \"?0\",\n",
    "    \"Sec-Ch-Ua-Platform\": \"Windows\",\n",
    "    \"User-agent\": 'Mozilla/5.0 (Windows NT 10.0; Win64; x64) AppleWebKit/537.36 (KHTML, like Gecko) Chrome/128.0.0.0 Safari/537.36'    \n",
    "}"
   ]
  },
  {
   "cell_type": "code",
   "execution_count": 12,
   "metadata": {},
   "outputs": [
    {
     "name": "stdout",
     "output_type": "stream",
     "text": [
      "https://lista.mercadolivre.com.br/bicicleta&_Desde_0_NoIndex_True\n",
      "Bicicleta Aro 26 Caiçara Beach Vintage Bike Retro Feminina\n",
      "Bicicleta Aro 29 Gts Alumunio Rdx 21v Câmbio Shimano A Disco Cor Branco/preto Tamanho Do Quadro 21\n",
      "Mountain bike Woltz Steel aro 29 17\" 21v freios de disco mecânico câmbios Yamada cor preto/vermelho\n",
      "Bicicleta Aro 29 Gts Alumunio Rdx 21v Câmbio Shimano A Disco Cor Cinza/preto Tamanho Do Quadro 17\n",
      "Bicicleta De Mtb St900 Ltd Aro 29 Transmissão Shimano\n",
      "Bicicleta Mtb Aro 29 Oggi Hacker Hds 2021 Preto/azul/s-lime\n",
      "Bicicleta Elétrica Toronto Aro 29 250w Atrio - Vm103\n",
      "Bicicleta Absolute Nero 5 Elite Aro 29 Suspensão Prime A Ar\n",
      "Bicicleta Aro 29 Gts Alumunio Rdx 21v Câmbio Shimano A Disco Cor Preto/vermelho Tamanho Do Quadro 21\n",
      "Bicicleta 12 Nathor Fireman Vermelho\n",
      "Bicicleta Rad7 Mtb Carbon Black Milano 12v Shimano Sus Boost\n",
      "Bicicleta Pro-x Rustic Pro -aro-26  Freeride-pump Track\n",
      "Bicicleta Scott Scale 965 Mtb Shimano Slx 2024 Azul Mtb\n",
      "Bicicleta Rad7 Mtb Carbon Black Milano 12v Shimano Sus Boost\n",
      "Bicicleta Boost Tsw Rava Nazca 29 Shimano Deore 12v Mtb\n",
      "Bicicleta Scott Scale 965 Mtb Shimano Slx 2024 Azul Mtb\n",
      "Bicicleta Balance Bike Infantil Fast Mod 3 Aro 12 - Nathor\n",
      "Bicicleta Infantil Aro 12 Nathor Menina Criança Selim Macio Cor Rosa/Violeta\n",
      "Bicicleta Colli Denver Mtb Aro 29 Shimano Preta 21v C/ Susp\n",
      "Bicicleta Colli Denver Mtb Aro 29 Shimano 21v C/ Susp Azul\n",
      "Bicicleta Scott Scale 965 Mtb Shimano Slx 2024 Azul Mtb\n",
      "Bicicleta Oggi 700 Velloce Claris 16v Graf/pto Tam M - 2024\n",
      "Bicicleta Sense Impact Sl 2024\n",
      "Bicicleta Aro 8 Bike Infantil Kids Menino Menina Oferta Nfe\n",
      "Bicicleta Infantil Aro 12 Hero Boy  Vermelho - Verden\n",
      "Bicicleta Colli Denver Mtb Aro 29 Shimano 21v Vermelha\n",
      "Bicicleta Colli Denver Mtb Aro 29 Shimano 21v Rosa C/ Susp\n",
      "Bicicleta Infantil Balance Aro 12 Power Rex Nathor\n",
      "Bicicleta Infantil Balance Aro 12 Power Rex Nathor\n",
      "Bicicleta De Rodinhas Aro 12 Mickey Freio A Tambor Nathor\n",
      "Bicicleta Extreme Meninos Infantil Nathor Aro 16 Laranja\n",
      "Bicicleta Aro 24 Ultra Bikes Bicolor Com 18 Marchas Passeio\n",
      "Bicicleta Scott Scale 965 Mtb Shimano Slx 2024 Azul Mtb\n",
      "Bicicleta Extreme Meninos Infantil Nathor Aro 16 Laranja\n",
      "Bicicleta Colli Denver Mtb Aro 29 Shimano 21v Vermelha\n",
      "Bicicleta Infantil Aro 12 Homem Aranha Nathor Spider-man Cor Vermelho Azul e Preto\n",
      "Bicicleta  de passeio infantil Nathor Motor X PU aro 12 freio tambor cor vermelho/amarelo com rodas de treinamento\n",
      "Bicicleta Oggi 700 Velloce Claris 16v Graf/pto Tam M - 2024\n",
      "Bicicleta Scott Scale 965 Mtb Shimano Slx 2024 Azul Mtb\n",
      "Bicicleta Extreme Meninos Infantil Nathor Aro 16 Laranja\n",
      "Bicicleta Aro 16 Extreme Laranja Infantil Nathor Meninos\n",
      "Bicicleta Absolute Nero 5 - Aro 26 - Freeride\n",
      "Bicicleta Mtb Caloi Explorer Pro Sl Aro 29 Cues 11v 2024\n",
      "Bike Mtb 29 Rava Pressure Plus 21v Hidráulico - Shimano\n",
      "Bicicleta Sense Mtb Fun Comp 2023 Aro 29 16v Grafite/laranja\n",
      "Bicicleta Aro 29 Alumínio 12v A Disco Redstone Nitro Gts\n",
      "BMX Pro-X Série 1 aro 20 freios v-brakes cor azul/preto\n",
      "Bicicleta Scott Scale 965 Mtb Shimano Slx 2024 Azul - Mtb\n",
      "Bicicleta Colli Denver Mtb Aro 29 Shimano Preta 21v C/ Susp\n"
     ]
    }
   ],
   "source": [
    "# Item e Quantidade de Itens para a Busca\n",
    "item = \"bicicleta\"\n",
    "num_itens = 20\n",
    "\n",
    "\n",
    "# URL base para a consulta no Mercado Livre\n",
    "base_url = f\"https://lista.mercadolivre.com.br/{item}\"\n",
    "\n",
    "\n",
    "# Lista para armazenar os itens\n",
    "itens = []\n",
    "\n",
    "# Loop while para obtermos o número necessário de itens\n",
    "while len(itens) < num_itens:\n",
    "    url = f\"{base_url}&_Desde_{len(itens)}_NoIndex_True\"   \n",
    "    \n",
    "    # Requisição para a URL\n",
    "    response = requests.get(url, headers=headers)\n",
    "    \n",
    "    # Verifica se a requisição foi bem-sucedida\n",
    "    if response.status_code == 200:\n",
    "        \n",
    "        soup = BeautifulSoup(response.content, \"html.parser\")\n",
    "        \n",
    "        # Procura pelos itens da lista, baseado na classe específica do HTML do Mercado Livre\n",
    "        item_containers = soup.find_all(\"li\", {\"class\": \"ui-search-layout__item\"})\n",
    "        \n",
    "        # Loop através dos itens encontrados na página\n",
    "        for itemMl in item_containers:\n",
    "            title = itemMl.find(\"a\", {\"class\": \"ui-search-link__title-card\"})            \n",
    "            price_inter = itemMl.find(\"span\", {\"class\": \"andes-money-amount__fraction\"}).text.strip() \n",
    "            price_cents = itemMl.find(\"span\", {\"class\": \"andes-money-amount__cents\"})            \n",
    "            rating = itemMl.find(\"span\", {\"class\": \"a-icon-alt\"}) or \"Sem Informação\"\n",
    "            delivery_full = \"Disponível\" if itemMl.find(\"use\", {\"href\": \"#poly_full\"}) else \"Indisponível\"\n",
    "            \n",
    "            if title:\n",
    "                itemMl_title = title.text.strip()\n",
    "                price_cents_value = price_cents.text.strip() if price_cents else \"0\"            \n",
    "                          \n",
    "                # Adiciona o item à lista de itens coletados    \n",
    "                itens.append({\n",
    "                    \"Title\": itemMl_title,                        \n",
    "                    \"Price\": price_inter + \".\" + price_cents_value,\n",
    "                    \"Rating\": rating,\n",
    "                    \"DeliveryFull\": delivery_full,\n",
    "                })\n",
    "                # Adiciona o item à lista de itens coletados\n",
    "                print(itemMl_title)       \n",
    "        \n",
    "    else:\n",
    "        print(\"Failed to retrieve the page\")\n",
    "        break\n",
    "\n",
    "# Limita o número de itens coletados ao valor definido por 'num_itens'\n",
    "itens = itens[:num_itens]\n",
    "\n",
    "# Converte itens em um DataFrame\n",
    "df = pd.DataFrame(itens)\n",
    "\n",
    "# Remove duplicatas no DataFrame, baseando-se nas colunas 'Title' e 'Price'# Remove duplicates based on 'Title' column\n",
    "df.drop_duplicates(subset=[\"Title\",\"Price\"], inplace=True)\n",
    "\n"
   ]
  },
  {
   "cell_type": "code",
   "execution_count": 10,
   "metadata": {},
   "outputs": [
    {
     "name": "stdout",
     "output_type": "stream",
     "text": [
      "Title           19\n",
      "Price           19\n",
      "Rating          19\n",
      "DeliveryFull    19\n",
      "dtype: int64\n"
     ]
    }
   ],
   "source": [
    "print(df.count())"
   ]
  }
 ],
 "metadata": {
  "kernelspec": {
   "display_name": "venv",
   "language": "python",
   "name": "python3"
  },
  "language_info": {
   "codemirror_mode": {
    "name": "ipython",
    "version": 3
   },
   "file_extension": ".py",
   "mimetype": "text/x-python",
   "name": "python",
   "nbconvert_exporter": "python",
   "pygments_lexer": "ipython3",
   "version": "3.8.10"
  }
 },
 "nbformat": 4,
 "nbformat_minor": 2
}
